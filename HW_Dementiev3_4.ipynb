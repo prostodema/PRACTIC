{
  "nbformat": 4,
  "nbformat_minor": 0,
  "metadata": {
    "colab": {
      "provenance": [],
      "authorship_tag": "ABX9TyNwehvvvGrZBtSzy0AJ8GGS",
      "include_colab_link": true
    },
    "kernelspec": {
      "name": "python3",
      "display_name": "Python 3"
    },
    "language_info": {
      "name": "python"
    }
  },
  "cells": [
    {
      "cell_type": "markdown",
      "metadata": {
        "id": "view-in-github",
        "colab_type": "text"
      },
      "source": [
        "<a href=\"https://colab.research.google.com/github/prostodema/PRACTIC/blob/prostodema-patch-1/HW_Dementiev3_4.ipynb\" target=\"_parent\"><img src=\"https://colab.research.google.com/assets/colab-badge.svg\" alt=\"Open In Colab\"/></a>"
      ]
    },
    {
      "cell_type": "code",
      "execution_count": 7,
      "metadata": {
        "id": "pUtWZMAgOsLb"
      },
      "outputs": [],
      "source": [
        "import pandas as pd"
      ]
    },
    {
      "cell_type": "code",
      "source": [
        "from google.colab import drive\n",
        "drive.mount('/content/drive')\n",
        "\n",
        "#from google.colab import files\n",
        "#files.upload()"
      ],
      "metadata": {
        "colab": {
          "base_uri": "https://localhost:8080/"
        },
        "id": "PUzdBkXiO2tQ",
        "outputId": "51b533f0-0b7d-4a34-f9ed-ca091f6cb218"
      },
      "execution_count": 8,
      "outputs": [
        {
          "output_type": "stream",
          "name": "stdout",
          "text": [
            "Mounted at /content/drive\n"
          ]
        }
      ]
    },
    {
      "cell_type": "code",
      "source": [
        "file_path_data = '/content/drive/My Drive/Colab Notebooks/survey_results_public.csv'\n",
        "file_path_schema = '/content/drive/My Drive/Colab Notebooks/survey_results_schema.csv'\n"
      ],
      "metadata": {
        "id": "FTgLuq9YPOj6"
      },
      "execution_count": 9,
      "outputs": []
    },
    {
      "cell_type": "code",
      "source": [
        "survey_data = pd.read_csv(file_path_data)\n",
        "schema_data = pd.read_csv(file_path_schema)\n",
        "\n",
        "#survey_data.head()\n",
        "#schema_data.head()\n"
      ],
      "metadata": {
        "id": "hAAARba-b89p"
      },
      "execution_count": 10,
      "outputs": []
    },
    {
      "cell_type": "code",
      "source": [
        "#Display the first few rows of the dataset to understand its structure\n",
        "survey_data.head()\n",
        "schema_data.head()"
      ],
      "metadata": {
        "colab": {
          "base_uri": "https://localhost:8080/",
          "height": 206
        },
        "id": "Hgl-KNrdPYLg",
        "outputId": "03dac42d-702c-4b57-f304-eb9ec2f7c64c"
      },
      "execution_count": 11,
      "outputs": [
        {
          "output_type": "execute_result",
          "data": {
            "text/plain": [
              "      qid       qname                                           question  \\\n",
              "0    QID2  MainBranch  Which of the following options best describes ...   \n",
              "1  QID127         Age                                 What is your age?*   \n",
              "2  QID296  Employment  Which of the following best describes your cur...   \n",
              "3  QID308  RemoteWork  Which best describes your current work situation?   \n",
              "4  QID341       Check  Just checking to make sure you are paying atte...   \n",
              "\n",
              "  force_resp type selector  \n",
              "0       True   MC     SAVR  \n",
              "1       True   MC     SAVR  \n",
              "2       True   MC     MAVR  \n",
              "3      False   MC     SAVR  \n",
              "4       True   MC     SAVR  "
            ],
            "text/html": [
              "\n",
              "  <div id=\"df-80b9e63e-59ac-46dd-a499-b128d02cd981\" class=\"colab-df-container\">\n",
              "    <div>\n",
              "<style scoped>\n",
              "    .dataframe tbody tr th:only-of-type {\n",
              "        vertical-align: middle;\n",
              "    }\n",
              "\n",
              "    .dataframe tbody tr th {\n",
              "        vertical-align: top;\n",
              "    }\n",
              "\n",
              "    .dataframe thead th {\n",
              "        text-align: right;\n",
              "    }\n",
              "</style>\n",
              "<table border=\"1\" class=\"dataframe\">\n",
              "  <thead>\n",
              "    <tr style=\"text-align: right;\">\n",
              "      <th></th>\n",
              "      <th>qid</th>\n",
              "      <th>qname</th>\n",
              "      <th>question</th>\n",
              "      <th>force_resp</th>\n",
              "      <th>type</th>\n",
              "      <th>selector</th>\n",
              "    </tr>\n",
              "  </thead>\n",
              "  <tbody>\n",
              "    <tr>\n",
              "      <th>0</th>\n",
              "      <td>QID2</td>\n",
              "      <td>MainBranch</td>\n",
              "      <td>Which of the following options best describes ...</td>\n",
              "      <td>True</td>\n",
              "      <td>MC</td>\n",
              "      <td>SAVR</td>\n",
              "    </tr>\n",
              "    <tr>\n",
              "      <th>1</th>\n",
              "      <td>QID127</td>\n",
              "      <td>Age</td>\n",
              "      <td>What is your age?*</td>\n",
              "      <td>True</td>\n",
              "      <td>MC</td>\n",
              "      <td>SAVR</td>\n",
              "    </tr>\n",
              "    <tr>\n",
              "      <th>2</th>\n",
              "      <td>QID296</td>\n",
              "      <td>Employment</td>\n",
              "      <td>Which of the following best describes your cur...</td>\n",
              "      <td>True</td>\n",
              "      <td>MC</td>\n",
              "      <td>MAVR</td>\n",
              "    </tr>\n",
              "    <tr>\n",
              "      <th>3</th>\n",
              "      <td>QID308</td>\n",
              "      <td>RemoteWork</td>\n",
              "      <td>Which best describes your current work situation?</td>\n",
              "      <td>False</td>\n",
              "      <td>MC</td>\n",
              "      <td>SAVR</td>\n",
              "    </tr>\n",
              "    <tr>\n",
              "      <th>4</th>\n",
              "      <td>QID341</td>\n",
              "      <td>Check</td>\n",
              "      <td>Just checking to make sure you are paying atte...</td>\n",
              "      <td>True</td>\n",
              "      <td>MC</td>\n",
              "      <td>SAVR</td>\n",
              "    </tr>\n",
              "  </tbody>\n",
              "</table>\n",
              "</div>\n",
              "    <div class=\"colab-df-buttons\">\n",
              "\n",
              "  <div class=\"colab-df-container\">\n",
              "    <button class=\"colab-df-convert\" onclick=\"convertToInteractive('df-80b9e63e-59ac-46dd-a499-b128d02cd981')\"\n",
              "            title=\"Convert this dataframe to an interactive table.\"\n",
              "            style=\"display:none;\">\n",
              "\n",
              "  <svg xmlns=\"http://www.w3.org/2000/svg\" height=\"24px\" viewBox=\"0 -960 960 960\">\n",
              "    <path d=\"M120-120v-720h720v720H120Zm60-500h600v-160H180v160Zm220 220h160v-160H400v160Zm0 220h160v-160H400v160ZM180-400h160v-160H180v160Zm440 0h160v-160H620v160ZM180-180h160v-160H180v160Zm440 0h160v-160H620v160Z\"/>\n",
              "  </svg>\n",
              "    </button>\n",
              "\n",
              "  <style>\n",
              "    .colab-df-container {\n",
              "      display:flex;\n",
              "      gap: 12px;\n",
              "    }\n",
              "\n",
              "    .colab-df-convert {\n",
              "      background-color: #E8F0FE;\n",
              "      border: none;\n",
              "      border-radius: 50%;\n",
              "      cursor: pointer;\n",
              "      display: none;\n",
              "      fill: #1967D2;\n",
              "      height: 32px;\n",
              "      padding: 0 0 0 0;\n",
              "      width: 32px;\n",
              "    }\n",
              "\n",
              "    .colab-df-convert:hover {\n",
              "      background-color: #E2EBFA;\n",
              "      box-shadow: 0px 1px 2px rgba(60, 64, 67, 0.3), 0px 1px 3px 1px rgba(60, 64, 67, 0.15);\n",
              "      fill: #174EA6;\n",
              "    }\n",
              "\n",
              "    .colab-df-buttons div {\n",
              "      margin-bottom: 4px;\n",
              "    }\n",
              "\n",
              "    [theme=dark] .colab-df-convert {\n",
              "      background-color: #3B4455;\n",
              "      fill: #D2E3FC;\n",
              "    }\n",
              "\n",
              "    [theme=dark] .colab-df-convert:hover {\n",
              "      background-color: #434B5C;\n",
              "      box-shadow: 0px 1px 3px 1px rgba(0, 0, 0, 0.15);\n",
              "      filter: drop-shadow(0px 1px 2px rgba(0, 0, 0, 0.3));\n",
              "      fill: #FFFFFF;\n",
              "    }\n",
              "  </style>\n",
              "\n",
              "    <script>\n",
              "      const buttonEl =\n",
              "        document.querySelector('#df-80b9e63e-59ac-46dd-a499-b128d02cd981 button.colab-df-convert');\n",
              "      buttonEl.style.display =\n",
              "        google.colab.kernel.accessAllowed ? 'block' : 'none';\n",
              "\n",
              "      async function convertToInteractive(key) {\n",
              "        const element = document.querySelector('#df-80b9e63e-59ac-46dd-a499-b128d02cd981');\n",
              "        const dataTable =\n",
              "          await google.colab.kernel.invokeFunction('convertToInteractive',\n",
              "                                                    [key], {});\n",
              "        if (!dataTable) return;\n",
              "\n",
              "        const docLinkHtml = 'Like what you see? Visit the ' +\n",
              "          '<a target=\"_blank\" href=https://colab.research.google.com/notebooks/data_table.ipynb>data table notebook</a>'\n",
              "          + ' to learn more about interactive tables.';\n",
              "        element.innerHTML = '';\n",
              "        dataTable['output_type'] = 'display_data';\n",
              "        await google.colab.output.renderOutput(dataTable, element);\n",
              "        const docLink = document.createElement('div');\n",
              "        docLink.innerHTML = docLinkHtml;\n",
              "        element.appendChild(docLink);\n",
              "      }\n",
              "    </script>\n",
              "  </div>\n",
              "\n",
              "\n",
              "<div id=\"df-014693bb-3fea-4eea-99f6-840b3d7ec373\">\n",
              "  <button class=\"colab-df-quickchart\" onclick=\"quickchart('df-014693bb-3fea-4eea-99f6-840b3d7ec373')\"\n",
              "            title=\"Suggest charts\"\n",
              "            style=\"display:none;\">\n",
              "\n",
              "<svg xmlns=\"http://www.w3.org/2000/svg\" height=\"24px\"viewBox=\"0 0 24 24\"\n",
              "     width=\"24px\">\n",
              "    <g>\n",
              "        <path d=\"M19 3H5c-1.1 0-2 .9-2 2v14c0 1.1.9 2 2 2h14c1.1 0 2-.9 2-2V5c0-1.1-.9-2-2-2zM9 17H7v-7h2v7zm4 0h-2V7h2v10zm4 0h-2v-4h2v4z\"/>\n",
              "    </g>\n",
              "</svg>\n",
              "  </button>\n",
              "\n",
              "<style>\n",
              "  .colab-df-quickchart {\n",
              "      --bg-color: #E8F0FE;\n",
              "      --fill-color: #1967D2;\n",
              "      --hover-bg-color: #E2EBFA;\n",
              "      --hover-fill-color: #174EA6;\n",
              "      --disabled-fill-color: #AAA;\n",
              "      --disabled-bg-color: #DDD;\n",
              "  }\n",
              "\n",
              "  [theme=dark] .colab-df-quickchart {\n",
              "      --bg-color: #3B4455;\n",
              "      --fill-color: #D2E3FC;\n",
              "      --hover-bg-color: #434B5C;\n",
              "      --hover-fill-color: #FFFFFF;\n",
              "      --disabled-bg-color: #3B4455;\n",
              "      --disabled-fill-color: #666;\n",
              "  }\n",
              "\n",
              "  .colab-df-quickchart {\n",
              "    background-color: var(--bg-color);\n",
              "    border: none;\n",
              "    border-radius: 50%;\n",
              "    cursor: pointer;\n",
              "    display: none;\n",
              "    fill: var(--fill-color);\n",
              "    height: 32px;\n",
              "    padding: 0;\n",
              "    width: 32px;\n",
              "  }\n",
              "\n",
              "  .colab-df-quickchart:hover {\n",
              "    background-color: var(--hover-bg-color);\n",
              "    box-shadow: 0 1px 2px rgba(60, 64, 67, 0.3), 0 1px 3px 1px rgba(60, 64, 67, 0.15);\n",
              "    fill: var(--button-hover-fill-color);\n",
              "  }\n",
              "\n",
              "  .colab-df-quickchart-complete:disabled,\n",
              "  .colab-df-quickchart-complete:disabled:hover {\n",
              "    background-color: var(--disabled-bg-color);\n",
              "    fill: var(--disabled-fill-color);\n",
              "    box-shadow: none;\n",
              "  }\n",
              "\n",
              "  .colab-df-spinner {\n",
              "    border: 2px solid var(--fill-color);\n",
              "    border-color: transparent;\n",
              "    border-bottom-color: var(--fill-color);\n",
              "    animation:\n",
              "      spin 1s steps(1) infinite;\n",
              "  }\n",
              "\n",
              "  @keyframes spin {\n",
              "    0% {\n",
              "      border-color: transparent;\n",
              "      border-bottom-color: var(--fill-color);\n",
              "      border-left-color: var(--fill-color);\n",
              "    }\n",
              "    20% {\n",
              "      border-color: transparent;\n",
              "      border-left-color: var(--fill-color);\n",
              "      border-top-color: var(--fill-color);\n",
              "    }\n",
              "    30% {\n",
              "      border-color: transparent;\n",
              "      border-left-color: var(--fill-color);\n",
              "      border-top-color: var(--fill-color);\n",
              "      border-right-color: var(--fill-color);\n",
              "    }\n",
              "    40% {\n",
              "      border-color: transparent;\n",
              "      border-right-color: var(--fill-color);\n",
              "      border-top-color: var(--fill-color);\n",
              "    }\n",
              "    60% {\n",
              "      border-color: transparent;\n",
              "      border-right-color: var(--fill-color);\n",
              "    }\n",
              "    80% {\n",
              "      border-color: transparent;\n",
              "      border-right-color: var(--fill-color);\n",
              "      border-bottom-color: var(--fill-color);\n",
              "    }\n",
              "    90% {\n",
              "      border-color: transparent;\n",
              "      border-bottom-color: var(--fill-color);\n",
              "    }\n",
              "  }\n",
              "</style>\n",
              "\n",
              "  <script>\n",
              "    async function quickchart(key) {\n",
              "      const quickchartButtonEl =\n",
              "        document.querySelector('#' + key + ' button');\n",
              "      quickchartButtonEl.disabled = true;  // To prevent multiple clicks.\n",
              "      quickchartButtonEl.classList.add('colab-df-spinner');\n",
              "      try {\n",
              "        const charts = await google.colab.kernel.invokeFunction(\n",
              "            'suggestCharts', [key], {});\n",
              "      } catch (error) {\n",
              "        console.error('Error during call to suggestCharts:', error);\n",
              "      }\n",
              "      quickchartButtonEl.classList.remove('colab-df-spinner');\n",
              "      quickchartButtonEl.classList.add('colab-df-quickchart-complete');\n",
              "    }\n",
              "    (() => {\n",
              "      let quickchartButtonEl =\n",
              "        document.querySelector('#df-014693bb-3fea-4eea-99f6-840b3d7ec373 button');\n",
              "      quickchartButtonEl.style.display =\n",
              "        google.colab.kernel.accessAllowed ? 'block' : 'none';\n",
              "    })();\n",
              "  </script>\n",
              "</div>\n",
              "\n",
              "    </div>\n",
              "  </div>\n"
            ],
            "application/vnd.google.colaboratory.intrinsic+json": {
              "type": "dataframe",
              "variable_name": "schema_data",
              "summary": "{\n  \"name\": \"schema_data\",\n  \"rows\": 87,\n  \"fields\": [\n    {\n      \"column\": \"qid\",\n      \"properties\": {\n        \"dtype\": \"string\",\n        \"num_unique_values\": 66,\n        \"samples\": [\n          \"QID291\",\n          \"QID337\",\n          \"QID2\"\n        ],\n        \"semantic_type\": \"\",\n        \"description\": \"\"\n      }\n    },\n    {\n      \"column\": \"qname\",\n      \"properties\": {\n        \"dtype\": \"string\",\n        \"num_unique_values\": 87,\n        \"samples\": [\n          \"Frequency_2\",\n          \"MainBranch\",\n          \"MiscTech\"\n        ],\n        \"semantic_type\": \"\",\n        \"description\": \"\"\n      }\n    },\n    {\n      \"column\": \"question\",\n      \"properties\": {\n        \"dtype\": \"string\",\n        \"num_unique_values\": 87,\n        \"samples\": [\n          \"Interacting with people outside of your immediate team?\",\n          \"Which of the following options best describes you today? For the purpose of this survey, a developer is \\\"someone who writes code\\\".*\",\n          \"Which <b>other frameworks and libraries</b> have you done extensive development work in over the past year, and which do you want to work in over the next year? (If you both worked with the framework and want to continue to do so, please check both boxes in that row.)\"\n        ],\n        \"semantic_type\": \"\",\n        \"description\": \"\"\n      }\n    },\n    {\n      \"column\": \"force_resp\",\n      \"properties\": {\n        \"dtype\": \"category\",\n        \"num_unique_values\": 2,\n        \"samples\": [\n          false,\n          true\n        ],\n        \"semantic_type\": \"\",\n        \"description\": \"\"\n      }\n    },\n    {\n      \"column\": \"type\",\n      \"properties\": {\n        \"dtype\": \"category\",\n        \"num_unique_values\": 5,\n        \"samples\": [\n          \"TE\",\n          \"CS\"\n        ],\n        \"semantic_type\": \"\",\n        \"description\": \"\"\n      }\n    },\n    {\n      \"column\": \"selector\",\n      \"properties\": {\n        \"dtype\": \"category\",\n        \"num_unique_values\": 8,\n        \"samples\": [\n          \"MAVR\",\n          \"HSLIDER\"\n        ],\n        \"semantic_type\": \"\",\n        \"description\": \"\"\n      }\n    }\n  ]\n}"
            }
          },
          "metadata": {},
          "execution_count": 11
        }
      ]
    },
    {
      "cell_type": "code",
      "source": [
        "# 1: How many respondents took the survey?\n",
        "true_columns = schema_data[schema_data['force_resp'] == True]['qname'].tolist()\n",
        "filtered_data = survey_data[true_columns]\n",
        "complete_responses = filtered_data.dropna()"
      ],
      "metadata": {
        "colab": {
          "base_uri": "https://localhost:8080/"
        },
        "id": "GZPgOi2lO2vj",
        "outputId": "8e2af007-f447-47a0-98aa-773afd347d32"
      },
      "execution_count": 12,
      "outputs": [
        {
          "output_type": "stream",
          "name": "stdout",
          "text": [
            "Кількість респондентів: 65437\n"
          ]
        }
      ]
    },
    {
      "cell_type": "code",
      "source": [
        "print(f\"Кількість респондентів, які відповіли на всі питання: {complete_responses.shape[0]}\")"
      ],
      "metadata": {
        "colab": {
          "base_uri": "https://localhost:8080/"
        },
        "id": "sbyOgYC7V37l",
        "outputId": "ead482fc-c4ce-4865-9eda-87320c29e563"
      },
      "execution_count": 17,
      "outputs": [
        {
          "output_type": "stream",
          "name": "stdout",
          "text": [
            "Кількість респондентів, які відповіли на всі питання: 42806\n"
          ]
        }
      ]
    },
    {
      "cell_type": "code",
      "source": [
        "# 3: What are the central tendency measures (mean, median, mode) for respondents' work experience (WorkExp)?\n",
        "work_exp_data = pd.to_numeric(survey_data['WorkExp'], errors='coerce')\n",
        "\n",
        "mean_exp = work_exp_data.mean()\n",
        "median_exp = work_exp_data.median()\n",
        "mode_exp = work_exp_data.mode()[0]\n",
        "\n",
        "print(f'Mean: {mean_exp}, Median: {median_exp}, Moda: {mode_exp}')"
      ],
      "metadata": {
        "colab": {
          "base_uri": "https://localhost:8080/"
        },
        "id": "b7bqK81MO20M",
        "outputId": "c2f59878-66e3-461a-a4d3-e5080296a8b2"
      },
      "execution_count": 13,
      "outputs": [
        {
          "output_type": "stream",
          "name": "stdout",
          "text": [
            "Mean: 11.46695663901814, Median: 9.0, Moda: 3.0\n"
          ]
        }
      ]
    },
    {
      "cell_type": "code",
      "source": [
        "# 4: How many respondents work remotely?\n",
        "remote_workers = survey_data[survey_data['RemoteWork'] == 'Remote'].shape[0]\n",
        "print(f'Кількість респондентів, які працюють віддалено: {remote_workers}')"
      ],
      "metadata": {
        "colab": {
          "base_uri": "https://localhost:8080/"
        },
        "id": "L4gsrrQJO22f",
        "outputId": "e6691fdc-1c97-40f2-f939-01f81a0534b2"
      },
      "execution_count": 14,
      "outputs": [
        {
          "output_type": "stream",
          "name": "stdout",
          "text": [
            "Кількість респондентів, які працюють віддалено: 20831\n"
          ]
        }
      ]
    },
    {
      "cell_type": "code",
      "source": [
        "# 5: What percentage of respondents program in Python?\n",
        "python_programmers = survey_data[survey_data['LanguageHaveWorkedWith'].str.contains('Python', na=False)].shape[0]\n",
        "total_respondents_non_null = survey_data['LanguageHaveWorkedWith'].notnull().sum()\n",
        "python_percentage = (python_programmers / total_respondents_non_null) * 100\n",
        "\n",
        "print(f'Відсоток програмістів на Python: {python_percentage:.2f}%')\n"
      ],
      "metadata": {
        "colab": {
          "base_uri": "https://localhost:8080/"
        },
        "id": "yfOvuzozPV7k",
        "outputId": "2705aad7-1014-4909-ab24-13f3ad43a969"
      },
      "execution_count": 15,
      "outputs": [
        {
          "output_type": "stream",
          "name": "stdout",
          "text": [
            "Відсоток програмістів на Python: 51.54%\n"
          ]
        }
      ]
    },
    {
      "cell_type": "code",
      "source": [
        "# 6: How many respondents learned programming through online courses?\n",
        "online_learners = survey_data[survey_data['LearnCode'].str.contains('Online', na=False)].shape[0]\n",
        "print(f'Кількість респондентів, які навчалися через онлайн курси: {online_learners}')\n"
      ],
      "metadata": {
        "colab": {
          "base_uri": "https://localhost:8080/"
        },
        "id": "4Aued7-lPV-G",
        "outputId": "85b4f2d8-e740-4ce3-d171-4ed34b16267e"
      },
      "execution_count": 16,
      "outputs": [
        {
          "output_type": "stream",
          "name": "stdout",
          "text": [
            "Кількість респондентів, які навчалися через онлайн курси: 30271\n"
          ]
        }
      ]
    },
    {
      "cell_type": "code",
      "source": [
        "# 7: Among respondents who program in Python, grouped by country, what are the average and median annual compensation (ConvertedCompYearly) in each country?\n",
        "python_users = survey_data[survey_data['LanguageHaveWorkedWith'].str.contains('Python', na=False)]\n",
        "\n",
        "#filter\n",
        "compensation_stats = python_users.groupby('Country')['ConvertedCompYearly'].agg(['mean', 'median'])\n",
        "print(compensation_stats)"
      ],
      "metadata": {
        "colab": {
          "base_uri": "https://localhost:8080/"
        },
        "id": "zuQ3XJnfPWAZ",
        "outputId": "0c1bfd75-e377-408f-8dbb-a3caeb6c07d8"
      },
      "execution_count": 18,
      "outputs": [
        {
          "output_type": "stream",
          "name": "stdout",
          "text": [
            "                                               mean    median\n",
            "Country                                                      \n",
            "Afghanistan                             4543.000000    4768.5\n",
            "Albania                                56295.000000   56295.0\n",
            "Algeria                                 9053.285714    6230.0\n",
            "Andorra                               193331.000000  193331.0\n",
            "Angola                                     6.000000       6.0\n",
            "...                                             ...       ...\n",
            "Venezuela, Bolivarian Republic of...   21500.000000    7100.0\n",
            "Viet Nam                               14014.562500   10180.0\n",
            "Yemen                                  10297.333333    5333.0\n",
            "Zambia                                 28123.666667   22803.0\n",
            "Zimbabwe                               37500.000000   18000.0\n",
            "\n",
            "[173 rows x 2 columns]\n"
          ]
        }
      ]
    },
    {
      "cell_type": "code",
      "source": [
        "# 8: What are the education levels of the 5 respondents with the highest compensation?\n",
        "top_5_education = survey_data.nlargest(5, 'ConvertedCompYearly')[['EdLevel', 'ConvertedCompYearly']]\n",
        "print(top_5_education)"
      ],
      "metadata": {
        "colab": {
          "base_uri": "https://localhost:8080/"
        },
        "id": "UFzXhnLOPWC1",
        "outputId": "a10fb616-b279-4351-cb06-2517f19e720c"
      },
      "execution_count": 19,
      "outputs": [
        {
          "output_type": "stream",
          "name": "stdout",
          "text": [
            "                                              EdLevel  ConvertedCompYearly\n",
            "15837    Bachelor’s degree (B.A., B.S., B.Eng., etc.)           16256603.0\n",
            "12723  Professional degree (JD, MD, Ph.D, Ed.D, etc.)           13818022.0\n",
            "28379  Professional degree (JD, MD, Ph.D, Ed.D, etc.)            9000000.0\n",
            "17593    Bachelor’s degree (B.A., B.S., B.Eng., etc.)            6340564.0\n",
            "17672  Professional degree (JD, MD, Ph.D, Ed.D, etc.)            4936778.0\n"
          ]
        }
      ]
    },
    {
      "cell_type": "code",
      "source": [
        "# Bonus 1: In each age category, what percentage of respondents program in Python?\n",
        "age_groups = survey_data.groupby('Age')['LanguageHaveWorkedWith'].apply(lambda x: (x.str.contains('Python', na=False).mean()) * 100)\n",
        "print(age_groups)"
      ],
      "metadata": {
        "colab": {
          "base_uri": "https://localhost:8080/"
        },
        "id": "YUiNs1A0PWFK",
        "outputId": "7ec13efd-45e7-45b9-e466-5a503efbde30"
      },
      "execution_count": 20,
      "outputs": [
        {
          "output_type": "stream",
          "name": "stdout",
          "text": [
            "Age\n",
            "18-24 years old       55.922826\n",
            "25-34 years old       45.773912\n",
            "35-44 years old       41.520546\n",
            "45-54 years old       41.910706\n",
            "55-64 years old       40.427184\n",
            "65 years or older     37.564767\n",
            "Prefer not to say     45.341615\n",
            "Under 18 years old    64.875389\n",
            "Name: LanguageHaveWorkedWith, dtype: float64\n"
          ]
        }
      ]
    },
    {
      "cell_type": "code",
      "source": [
        "# Bonus 2.1: 75 percentile\n",
        "high_earning_remote = survey_data[(survey_data['ConvertedCompYearly'] >= survey_data['ConvertedCompYearly'].quantile(0.75)) &\n",
        "                                  (survey_data['RemoteWork'] == 'Remote')]"
      ],
      "metadata": {
        "id": "yXgFtTcLPh0S"
      },
      "execution_count": 24,
      "outputs": []
    },
    {
      "cell_type": "code",
      "source": [
        "# Bonus 2.2: Respondents in the 75th percentile that has compensation\n",
        "industry_distribution = high_earning_remote['Employment'].value_counts()\n",
        "print(industry_distribution)"
      ],
      "metadata": {
        "id": "kokUiWouPh2p",
        "colab": {
          "base_uri": "https://localhost:8080/"
        },
        "outputId": "ac4c1a12-6aba-4c91-9d39-1a7a22091cf1"
      },
      "execution_count": 22,
      "outputs": [
        {
          "output_type": "stream",
          "name": "stdout",
          "text": [
            "Employment\n",
            "Employed, full-time                                                                                                               2303\n",
            "Independent contractor, freelancer, or self-employed                                                                               362\n",
            "Employed, full-time;Independent contractor, freelancer, or self-employed                                                           296\n",
            "Employed, full-time;Student, part-time                                                                                              21\n",
            "Not employed, but looking for work;Independent contractor, freelancer, or self-employed                                             16\n",
            "Independent contractor, freelancer, or self-employed;Employed, part-time                                                            15\n",
            "Employed, part-time                                                                                                                 11\n",
            "Employed, full-time;Independent contractor, freelancer, or self-employed;Student, part-time                                          9\n",
            "Employed, full-time;Independent contractor, freelancer, or self-employed;Employed, part-time                                         8\n",
            "Employed, full-time;Employed, part-time                                                                                              5\n",
            "Employed, full-time;Student, full-time                                                                                               5\n",
            "Independent contractor, freelancer, or self-employed;Not employed, and not looking for work                                          3\n",
            "Employed, full-time;Student, full-time;Independent contractor, freelancer, or self-employed                                          2\n",
            "Independent contractor, freelancer, or self-employed;Not employed, and not looking for work;Retired                                  2\n",
            "Employed, full-time;Retired                                                                                                          1\n",
            "Employed, full-time;Not employed, but looking for work                                                                               1\n",
            "Employed, full-time;Independent contractor, freelancer, or self-employed;Student, part-time;Retired                                  1\n",
            "Independent contractor, freelancer, or self-employed;Student, part-time                                                              1\n",
            "Independent contractor, freelancer, or self-employed;Retired                                                                         1\n",
            "Student, full-time;Independent contractor, freelancer, or self-employed;Not employed, and not looking for work                       1\n",
            "Not employed, but looking for work;Independent contractor, freelancer, or self-employed;Not employed, and not looking for work       1\n",
            "Student, full-time;Independent contractor, freelancer, or self-employed                                                              1\n",
            "Independent contractor, freelancer, or self-employed;Employed, part-time;Retired                                                     1\n",
            "Name: count, dtype: int64\n"
          ]
        }
      ]
    }
  ]
}